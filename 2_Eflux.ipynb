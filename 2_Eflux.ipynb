{
 "cells": [
  {
   "cell_type": "markdown",
   "metadata": {},
   "source": [
    "# E-flux* functions used to reconstruct context specific GSMMs"
   ]
  },
  {
   "cell_type": "markdown",
   "metadata": {},
   "source": [
    "#### To use the Eflux function you need:"
   ]
  },
  {
   "cell_type": "markdown",
   "metadata": {},
   "source": [
    "1. The model in an Excel spreadsheet with the 'RXNS' sheet specified. This can easily be created with the RAVEN toolbox in MATLAB\n",
    "\n"
   ]
  },
  {
   "cell_type": "markdown",
   "metadata": {},
   "source": [
    "2. A tab seperated TPM expression matrix with very specific column headers. Column one should be 'Gene' and the gene id's should match the genes in the model. The other columns should represent the experimental condition samples and could be more than one replicate as long as the experimental condition regular expression is in each header. For example, if you have condition1_1 and condition1_2 as column headers and 'condition1' is specified in conditions then it will use both the latter columns to calculate a mean expression"
   ]
  },
  {
   "cell_type": "markdown",
   "metadata": {},
   "source": [
    "3. A conditions list that specified all the experimental conditions that you wish to calculate flux constraints for and are headers in the TPM expression matrix"
   ]
  },
  {
   "cell_type": "markdown",
   "metadata": {},
   "source": [
    "### PYTHON MODULES AND LOCAL FUNCTIONS"
   ]
  },
  {
   "cell_type": "code",
   "execution_count": 1,
   "metadata": {},
   "outputs": [],
   "source": [
    "import os\n",
    "import sys\n",
    "import csv\n",
    "import pandas as pd\n",
    "import numpy as np\n",
    "from collections import defaultdict, Counter\n",
    "from statistics import stdev,mean\n",
    "from math import sqrt,log"
   ]
  },
  {
   "cell_type": "code",
   "execution_count": 2,
   "metadata": {},
   "outputs": [],
   "source": [
    "def getModelEquations(model):\n",
    "    dfRxns = pd.read_excel(model,sheet_name='RXNS')\n",
    "    equations = dict(zip(dfRxns['ID'],dfRxns['EQUATION']))    \n",
    "    return equations"
   ]
  },
  {
   "cell_type": "code",
   "execution_count": 3,
   "metadata": {},
   "outputs": [],
   "source": [
    "def AorBMean(geneAssoc,means):\n",
    "    m = 0\n",
    "    for gene in geneAssoc:\n",
    "            if gene in means:\n",
    "                m += means[gene]\n",
    "    return m"
   ]
  },
  {
   "cell_type": "code",
   "execution_count": 4,
   "metadata": {},
   "outputs": [],
   "source": [
    "def setFluxConstraints(model,tpm,condition):\n",
    "    \n",
    "    # filter expression matrix\n",
    "    tpm = pd.read_csv(tpm,sep='\\t',index_col='Gene')\n",
    "    tpm = tpm.filter(like=condition)\n",
    "    means = dict(tpm.mean(axis=1))\n",
    "\n",
    "    # set bounds\n",
    "    model = pd.read_excel(model,sheet_name='RXNS',index_col='ID')\n",
    "    bounds = {}\n",
    "    for index,row in model.iterrows():\n",
    "        if pd.isna(model.loc[index,'GENE ASSOCIATION']) == True:\n",
    "            bounds[index] = 1000\n",
    "        else:\n",
    "            geneAssoc = row['GENE ASSOCIATION'].split(' or ')\n",
    "            bound = AorBMean(geneAssoc,means)\n",
    "            if bound == 0:\n",
    "                bounds[index] = 1000\n",
    "            elif bound > 0 and bound <= 1:\n",
    "                bounds[index] = bound\n",
    "            else:\n",
    "                bounds[index] = log(bound)\n",
    "    return bounds"
   ]
  },
  {
   "cell_type": "code",
   "execution_count": 5,
   "metadata": {},
   "outputs": [],
   "source": [
    "def setReactionBoundaries(bounds,equations):\n",
    "    reactionBounds = defaultdict(dict)\n",
    "    for reaction in bounds:\n",
    "        if '<=>' in equations[reaction]:\n",
    "            reactionBounds[reaction]['LB'] = round(-bounds[reaction],10)\n",
    "            reactionBounds[reaction]['UB'] = round(bounds[reaction],10)\n",
    "        else:\n",
    "            reactionBounds[reaction]['LB'] = 0\n",
    "            reactionBounds[reaction]['UB'] = round(bounds[reaction],10)\n",
    "    return reactionBounds"
   ]
  },
  {
   "cell_type": "markdown",
   "metadata": {},
   "source": [
    "### DEFINE THE PARAMETERS"
   ]
  },
  {
   "cell_type": "code",
   "execution_count": 10,
   "metadata": {},
   "outputs": [],
   "source": [
    "# this is the specific experimental conditions that we want to extract TPM values and create \n",
    "# context-specific models for. This can be changed as you wish. \n",
    "\n",
    "# the TPMMatrix\n",
    "\n",
    "tpm = 'data/tpm_mat.csv'\n",
    "\n",
    "conditions = ['nonDEN_Liver_CD','nonDEN_Liver_WD','DEN_Tumour_WD','DEN_AdjLiver_WD','DEN_Liver_CD']\n",
    "\n",
    "# the generic model we want to impose flux boundaries on. This model needs to be in Excel format that\n",
    "# can be constructed using the exportToExcelFormat function in the Raven2.0 toolbox\n",
    "model = str('model/MMRNHep/WD/MMRNHep-WD.xlsx')"
   ]
  },
  {
   "cell_type": "markdown",
   "metadata": {},
   "source": [
    "### GET THE FLUX BOUNDARIES AND WRITE TO FILE"
   ]
  },
  {
   "cell_type": "code",
   "execution_count": 11,
   "metadata": {
    "scrolled": true
   },
   "outputs": [
    {
     "name": "stdout",
     "output_type": "stream",
     "text": [
      "nonDEN_Liver_CD\n",
      "nonDEN_Liver_WD\n",
      "DEN_Tumour_WD\n",
      "DEN_AdjLiver_WD\n",
      "DEN_Liver_CD\n"
     ]
    }
   ],
   "source": [
    "dfRxns = pd.read_excel(model,sheet_name='RXNS',index_col='ID')\n",
    "for condition in conditions:\n",
    "    print(condition)\n",
    "    \n",
    "    # get the flux constraints\n",
    "    fluxConstraints = setFluxConstraints(model,tpm,condition)\n",
    "    boundaries = setReactionBoundaries(fluxConstraints,getModelEquations(model))\n",
    "    \n",
    "    # write this to a file that can be used to impose boundaries on the model\n",
    "    fout = open('data/Eflux/' + condition + '.csv','w')\n",
    "    fout.write('rxn\\tLB\\tUB\\n')\n",
    "    for rxn in boundaries:\n",
    "        if dfRxns.at[rxn,'SUBSYSTEM'] != 'Exchange reactions':\n",
    "            fout.write(rxn + '\\t')\n",
    "            fout.write(str(boundaries[rxn]['LB']) + '\\t')\n",
    "            fout.write(str(boundaries[rxn]['UB']) + '\\n')\n",
    "        else:\n",
    "            pass\n",
    "    fout.close()"
   ]
  }
 ],
 "metadata": {
  "kernelspec": {
   "display_name": "Python 3 (ipykernel)",
   "language": "python",
   "name": "python3"
  },
  "language_info": {
   "codemirror_mode": {
    "name": "ipython",
    "version": 3
   },
   "file_extension": ".py",
   "mimetype": "text/x-python",
   "name": "python",
   "nbconvert_exporter": "python",
   "pygments_lexer": "ipython3",
   "version": "3.10.0"
  }
 },
 "nbformat": 4,
 "nbformat_minor": 2
}
